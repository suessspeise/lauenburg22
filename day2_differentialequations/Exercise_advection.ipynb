{
 "cells": [
  {
   "cell_type": "markdown",
   "metadata": {},
   "source": [
    "# Python 101 - Numerical Methods"
   ]
  },
  {
   "cell_type": "code",
   "execution_count": 1,
   "metadata": {},
   "outputs": [],
   "source": [
    "#import the packages you need\n",
    "import numpy as np\n",
    "import copy\n",
    "import pandas as pd\n",
    "from matplotlib import pyplot as plt"
   ]
  },
  {
   "cell_type": "markdown",
   "metadata": {},
   "source": [
    "## Exercise 01: Linear Advection Equation\n",
    "\n",
    "The goal of this first exercise is to investigate stability and accuracy of different numerical schemes for the one-dimensional linear advection equation:"
   ]
  },
  {
   "cell_type": "markdown",
   "metadata": {},
   "source": [
    "$$\\partial_t \\phi + u_0 \\partial_x \\phi = 0 $$"
   ]
  },
  {
   "cell_type": "markdown",
   "metadata": {},
   "source": [
    "where $\\phi$ is some quantety that is advected around and $u_0$ is a constant zonal wind. As spatial grid use the 45°-latitude circle of the earth with a longitude resolution of $\\Delta\\lambda$ = 1° or equally $N_x = 360$ grid points, which leads to a grid spacing of:\n",
    "\n",
    "$$L_x = 2\\pi r_e cos(45°) = \\Delta_x * N_x$$\n",
    "\n",
    "thus\n",
    "\n",
    "$$\\Delta_x = 2\\pi r_e cos(45°) / N_x$$"
   ]
  },
  {
   "cell_type": "code",
   "execution_count": 1,
   "metadata": {},
   "outputs": [],
   "source": [
    "## TODO\n",
    "# 1 - set variables according to previous definition\n",
    "# 2 - get \\Delta_x, \\Delta_t, and the spatial domain"
   ]
  },
  {
   "cell_type": "markdown",
   "metadata": {},
   "source": [
    "As initial condition, use a Gaussian bell-curve\n",
    "\n",
    "$$\\phi(x, t=0) = \\hat\\phi exp(-(\\frac{(x-x_0)^2}{2\\sigma^2}))$$\n",
    "\n",
    "placed in the western part of the domain ($x_0 = 5000 km$), with a width of $\\sigma = 500$ km and an amplitude of $\\hat\\phi = 1$. With this initial condition, compute a 15-day forecast for a windspeed of $u_0 = 10m/s$ with the following methods to evaluate their basic properties.\n",
    "\n",
    "Optional: Add some small-amplitude random noise to the initial condition, e.g. use **np.random.normal(0, 0.001, Nx)** from the **numpy-package**. "
   ]
  },
  {
   "cell_type": "code",
   "execution_count": 2,
   "metadata": {},
   "outputs": [],
   "source": [
    "## TODO\n",
    "# 1 - set variables according to previous definition\n",
    "# 2 - get initial conditions and plot it"
   ]
  },
  {
   "cell_type": "markdown",
   "metadata": {},
   "source": [
    "### Part a)\n",
    "Exact solution. Work out the exact solution of the 15-day forecast (without the noise) and plot it together with the initial condition. Use this exact solution as a reference for the following experiments."
   ]
  },
  {
   "cell_type": "code",
   "execution_count": 3,
   "metadata": {},
   "outputs": [],
   "source": [
    "## TODO\n",
    "# 1 - set variables for the forecast\n",
    "# 2 - get analitical solution for the forecast"
   ]
  },
  {
   "cell_type": "markdown",
   "metadata": {},
   "source": [
    "### Part b)\n",
    "Euler-upstream-scheme (forward in time, backward in space). Plot the forecast computed from this method together with the exact solution from (a). \n",
    "\n",
    "**Note**: The Euler-upstream-scheme is also known as Forward-Time Up-Stream Scheme (FTUS)\n",
    "\n",
    "**Hint**: To make it easier for you. You could create a temporal array to make the swaps from one time step to the next one\n",
    "\n",
    "**Warning**: You might guest right, we have a periodic boundary condition. If the boundaries is not well developed memory access errors could arise."
   ]
  },
  {
   "cell_type": "code",
   "execution_count": 11,
   "metadata": {},
   "outputs": [],
   "source": [
    "## TODO\n",
    "# 1 - define the temporal resolution, if you don't recall .. use the CFL (\\mu) definition as upper limit\n",
    "# 2 - develop the numerical method requested"
   ]
  },
  {
   "cell_type": "markdown",
   "metadata": {},
   "source": [
    "Try out different Courant numbers ($\\mu$) to verify the results from the lecture, i.e.: unstable for $\\mu$ > 1, stable for $\\mu$ < 1, diffusive (amplitude decay), more diffusive for smaller $\\mu$."
   ]
  },
  {
   "cell_type": "code",
   "execution_count": 4,
   "metadata": {},
   "outputs": [],
   "source": [
    "## TODO\n",
    "# 1 - define a new temporal resolution and try it out\n",
    "# 2 - share what you obtain and learn"
   ]
  },
  {
   "cell_type": "markdown",
   "metadata": {},
   "source": [
    "### Part c)\n",
    "Euler-downstream-scheme (forward in time, foreward in space). Show that this scheme is unstable, even for Courant numbers smaller than one\n",
    "\n",
    "**Note**: This method will not work 'cause the information flows up-stream and not down-stream"
   ]
  },
  {
   "cell_type": "code",
   "execution_count": 7,
   "metadata": {},
   "outputs": [],
   "source": [
    "## TODO\n",
    "# 1 - develop the numerical method requested\n",
    "# 2 - share what you learn and obtain"
   ]
  },
  {
   "cell_type": "markdown",
   "metadata": {},
   "source": [
    "### Part d)\n",
    "Euler-centered-scheme (forward in time, centered in space). Show that this scheme is unstable, even for Courant numbers smaller than one"
   ]
  },
  {
   "cell_type": "code",
   "execution_count": 8,
   "metadata": {},
   "outputs": [],
   "source": [
    "## TODO\n",
    "# 1 - develop the numerical method requested\n",
    "# 2 - share what you learn and obtain (why is it unstable?)"
   ]
  },
  {
   "cell_type": "markdown",
   "metadata": {},
   "source": [
    "### Part e)\n",
    "Leapfrog-scheme (centered in time, centered in space). Show that this scheme is stable for $\\mu < 1$ and unstable for $\\mu > 1$. Compare amplitude errors for different Courant numbers to the Euler-upstream-scheme. To see the effects of artificial numerical dispersion, increase $k\\Delta x$ by either making the initial Gauss-peak narrower or the resolution coarser.\n",
    "\n",
    "\n",
    "**Warning**: this scheme requires information from the past and present to solve the future but you may wonder what about the first time step? Simple solution, just use one time step with FTUS to get the missing information."
   ]
  },
  {
   "cell_type": "code",
   "execution_count": null,
   "metadata": {},
   "outputs": [],
   "source": [
    "## TODO\n",
    "# 1 - develop the numerical method requested\n",
    "# 2 - share what you learn and obtain"
   ]
  },
  {
   "cell_type": "code",
   "execution_count": null,
   "metadata": {},
   "outputs": [],
   "source": [
    "## TODO\n",
    "# 1 - define a new temporal resolution and try it out\n",
    "# 2 - share what you obtain and learn"
   ]
  },
  {
   "cell_type": "markdown",
   "metadata": {},
   "source": [
    "## Bonus - Interesting things to do\n",
    "\n",
    "It is simple to make this methods but how can you make them faster? Can you figure out a best way to implement them?"
   ]
  },
  {
   "cell_type": "code",
   "execution_count": 23,
   "metadata": {},
   "outputs": [],
   "source": [
    "from timeit import default_timer as timer"
   ]
  },
  {
   "cell_type": "markdown",
   "metadata": {},
   "source": [
    "Check perfomance of the different methods implemented:"
   ]
  },
  {
   "cell_type": "code",
   "execution_count": 9,
   "metadata": {},
   "outputs": [],
   "source": [
    "## TODO\n",
    "# 1 - develop new ways to solve the numerical method, maybe use np.roll or a for loop or who knows"
   ]
  }
 ],
 "metadata": {
  "kernelspec": {
   "display_name": "Python 3 (ipykernel)",
   "language": "python",
   "name": "python3"
  },
  "language_info": {
   "codemirror_mode": {
    "name": "ipython",
    "version": 3
   },
   "file_extension": ".py",
   "mimetype": "text/x-python",
   "name": "python",
   "nbconvert_exporter": "python",
   "pygments_lexer": "ipython3",
   "version": "3.9.7"
  }
 },
 "nbformat": 4,
 "nbformat_minor": 4
}
