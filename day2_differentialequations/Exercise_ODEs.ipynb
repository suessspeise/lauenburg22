{
 "cells": [
  {
   "cell_type": "markdown",
   "id": "87103bb4-6f59-4c2e-813c-247dda1d9bcf",
   "metadata": {},
   "source": [
    "# Python 101 - Numerical Methods"
   ]
  },
  {
   "cell_type": "code",
   "execution_count": 1,
   "id": "5acf2e63-5ed8-4f6e-a351-c86f7cff73ea",
   "metadata": {},
   "outputs": [],
   "source": [
    "import numpy as np\n",
    "import sympy\n",
    "from matplotlib import pyplot as plt\n",
    "from scipy import integrate"
   ]
  },
  {
   "cell_type": "markdown",
   "id": "335340db-fd27-40e7-a52d-f45b86b09d57",
   "metadata": {},
   "source": [
    "## Exercise ODEs"
   ]
  },
  {
   "cell_type": "markdown",
   "id": "f92e2e07-ab55-4fcb-97cf-ec46733482a0",
   "metadata": {},
   "source": [
    "*Sympy* is a *python* package similar to the known *Matematica* package to have symbolic representation of equation and by using other packages as *numpy* or *scipy* solve them.\n",
    "\n",
    "In our case we are interested in ODEs"
   ]
  },
  {
   "cell_type": "markdown",
   "id": "8bbaf449-7587-494a-9ccf-d7c9780576e4",
   "metadata": {},
   "source": [
    "## a) Get ODE close form solution\n",
    "\n",
    "Let's consider a basic ODE with a bounded solution (closed-form solution), Newton's cooling Law:\n",
    "\n",
    "$$ \\frac{dT(t)}{dt} = -k \\left( T(t) - T_a \\right) $$\n",
    "\n",
    "with boundary condition of $ T(0)=T_0 $"
   ]
  },
  {
   "cell_type": "code",
   "execution_count": 2,
   "id": "cd69e96d-0faa-42f1-86fa-d8f0a8e7fcf1",
   "metadata": {},
   "outputs": [],
   "source": [
    "## TODO\n",
    "# 1 - Define Variables\n",
    "# 2 - Create the ODE\n",
    "# 3 - Solve the ODE\n",
    "# 4 - Define boundary conditions and solve it\n",
    "# 5 - Get the close-form solution"
   ]
  },
  {
   "cell_type": "markdown",
   "id": "d20a753f-55fc-49f6-aa73-9b9ad744bfa8",
   "metadata": {},
   "source": [
    "## b) Solve the ODE numerically"
   ]
  },
  {
   "cell_type": "code",
   "execution_count": 3,
   "id": "924d1b78-d9c3-40f4-8626-ff138db200b2",
   "metadata": {},
   "outputs": [],
   "source": [
    "## TODO\n",
    "# 1 - Define some initial conditions T_a = 273, T(0) = 300, k = 1\n",
    "# 2 - Use sympy.lambdify to create the function of the ODE\n",
    "# 3 - Define a range of time and \\Delta_t - i.e [0, 15] \\N_t = 100 \n",
    "# 4 - Solve numerically the ODE (Hint: use integrate.odeint)\n",
    "# 5 - Make some plots between numerical solution and close-form solution from before"
   ]
  },
  {
   "cell_type": "markdown",
   "id": "d66a7124-940f-4873-bde0-af9187daca9e",
   "metadata": {},
   "source": [
    "## c) Solve system of ODEs\n",
    "\n",
    "Now we consider the Lokta-Volterra equation for the dynamics of a population of predator and prey animals. For example, rabbits and foxes (x, y respectively):\n",
    "\n",
    "$$ \\frac{dx}{dt} = ax - bxy $$\n",
    "\n",
    "$$ \\frac{dy}{dt} = cxy - dy $$"
   ]
  },
  {
   "cell_type": "code",
   "execution_count": 4,
   "id": "f869e43d-3cda-44c9-8b30-146674184338",
   "metadata": {},
   "outputs": [],
   "source": [
    "## TODO\n",
    "# 1 - Define Variables and it's initial conditions a=0.4, b=0.002, c=0.001, d=0.7\n",
    "# 2 - Create the ODE as lambdify or a simple function\n",
    "# 3 - Define a range of time and \\Delta_t - i.e [0, 50] \\N_t = 250\n",
    "# 4 - Solve numerically the ODE (Hint: use integrate.odeint)\n",
    "# 5 - Make some plots between numerical solution and close-form solution from before"
   ]
  },
  {
   "cell_type": "markdown",
   "id": "8492ddd0-737b-402b-8caa-86aaed0c950a",
   "metadata": {},
   "source": [
    "## d) Solve the Lorenz ODEs\n",
    "\n",
    "The Lorenz Equations are a system of three coupled, first-order, nonlinear differential equations which describe the trajectory of a particle through time. "
   ]
  },
  {
   "cell_type": "markdown",
   "id": "1dc6f594-b6be-4e9d-a436-30b9989264fc",
   "metadata": {},
   "source": [
    "$$\\frac{dx}{dt}= \\sigma(y - x)$$\n",
    "\n",
    "$$\\frac{dy}{dt} = x(\\rho - z) - y$$\n",
    "\n",
    "$$\\frac{dz}{dt} = xy - \\beta z$$"
   ]
  },
  {
   "cell_type": "code",
   "execution_count": 5,
   "id": "a26bb4d6-bd47-4ef4-9e16-0ff19270ac5d",
   "metadata": {},
   "outputs": [],
   "source": [
    "## TODO\n",
    "# 1 - Define Variables and it's initial conditions sigma=8, rho=28, beta=3/8\n",
    "# 2 - Create the ODE as lambdify or a simple function\n",
    "# 3 - Define a range of time and \\Delta_t - i.e [0, 25] \\N_t = 10000\n",
    "# 4 - Solve numerically the ODE (Hint: use integrate.odeint)\n",
    "# 5 - Make some plots between numerical solution and close-form solution from before"
   ]
  },
  {
   "cell_type": "code",
   "execution_count": null,
   "id": "7679eb75-c8e5-4692-ba82-505e02dbe871",
   "metadata": {},
   "outputs": [],
   "source": []
  }
 ],
 "metadata": {
  "kernelspec": {
   "display_name": "Python 3 (ipykernel)",
   "language": "python",
   "name": "python3"
  },
  "language_info": {
   "codemirror_mode": {
    "name": "ipython",
    "version": 3
   },
   "file_extension": ".py",
   "mimetype": "text/x-python",
   "name": "python",
   "nbconvert_exporter": "python",
   "pygments_lexer": "ipython3",
   "version": "3.9.7"
  }
 },
 "nbformat": 4,
 "nbformat_minor": 5
}
