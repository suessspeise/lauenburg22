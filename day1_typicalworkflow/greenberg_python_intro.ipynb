{
  "cells": [
    {
      "cell_type": "markdown",
      "id": "fe5a0464",
      "metadata": {
        "id": "fe5a0464"
      },
      "source": [
        "Below you will find cells (also known as blocks) making up this jupyter notebook.\n",
        "\n",
        "There are two types of cells, code blocks and markdown blocks. You can create, delete and merge cells or change their type using the edit, insert and cell menus above. There are also keyboard shortcuts, see the help menu.\n",
        "\n",
        "Code cells contain python code which can be run to create and modify variables, load and save files and display graphics. To run the cell, click on a block and press **ctrl+enter**.\n",
        "\n",
        "Markdown cells (like this one!) contain text, and you can write latex equations by putting them in \\\\$ marks. For example: $a + b = c$.\n",
        "\n",
        "To modify the contents of a markdown cell, click on it and press **enter** or double-click (try it with this one!). When you're done making changes, press **ctrl+enter** to render the output. Choose \"markdown\" in the help menu for tips on including links, images, etc.\n",
        "\n",
        "The next cell is a code cell. You can see it defines two variables, a and b. Click on the code to edit it, and extend it to create a third variable c, defined by adding together a and b, and then print out the value of c. When you're done writing the code, press **ctrl+enter** to run it.\n",
        "\n",
        "Try this with the next cell: click on it and press **ctrl+enter**. Output should then appear below the code."
      ]
    },
    {
      "cell_type": "code",
      "execution_count": null,
      "id": "8cb76866",
      "metadata": {
        "id": "8cb76866"
      },
      "outputs": [],
      "source": [
        "# lines in code blocks that start with a '#' are comments, they help other understand your code but don't do anything!\n",
        "a = 2  # assign the value 2 to the variable a\n",
        "b = 3\n",
        "s = 'hello'  # this is a string variable, that stores text characters\n",
        "print(s)  # output the string\n",
        "a_as_string = str(a)  # convert a from an integer 2 to a string '2'\n",
        "print('a = ' + a_as_string)  # we used the + operator here. for numbers it's addition, but it also joins strings together.\n",
        "print('b = ' + str(b))\n",
        "\n",
        "c = a + b\n",
        "print('a + b = c = ' + str(c))\n",
        "print(f'3 times c is {3 * c}')\n",
        "# here we used f-string syntax, where a string preceded by f can have values in curly braces filled in by computations"
      ]
    },
    {
      "cell_type": "markdown",
      "id": "591d7c7b",
      "metadata": {
        "id": "591d7c7b"
      },
      "source": [
        "The effect of one code block persists when you run another block, or when you run the same block again. This includes defining variables or importing libraries.\n",
        "\n",
        "Note that the order in which you execute code blocks can affect the results, as can the number of times you execute each block!\n",
        "\n",
        "Generally speaking, you can execute any cell of your notebook in any order and as many times as you want. But it's good form to write notebooks so that each cell is meant to be run once from top to bottom, and this is how homeworks will be written.\n",
        "\n",
        "To start over from scratch, use the 'Kernel' menu above and choose 'restart'."
      ]
    },
    {
      "cell_type": "code",
      "execution_count": null,
      "id": "e9a7db5a",
      "metadata": {
        "id": "e9a7db5a"
      },
      "outputs": [],
      "source": [
        "b = b + 1"
      ]
    },
    {
      "cell_type": "code",
      "execution_count": null,
      "id": "a48b594b",
      "metadata": {
        "id": "a48b594b"
      },
      "outputs": [],
      "source": [
        "print(b)"
      ]
    },
    {
      "cell_type": "markdown",
      "id": "b6fad93b",
      "metadata": {
        "id": "b6fad93b"
      },
      "source": [
        "Variables can be of multiple numeric types such integers or floating point, which is an approximation of continuously varying real numbers. Run the next cell for some examples."
      ]
    },
    {
      "cell_type": "code",
      "execution_count": null,
      "id": "c18a66e4",
      "metadata": {
        "id": "c18a66e4"
      },
      "outputs": [],
      "source": [
        "x = 1.5\n",
        "y = 2.2e3  # you can also use exponential notation\n",
        "z = 4e-2\n",
        "print(f'the value of y is {y}')\n",
        "print(f'the value of z is {z}')\n",
        "print(f'the type of x is {type(x)}')\n",
        "print(f'the type of a is {type(a)}')\n",
        "print(f'the type of a+x is {type(a+x)}, and its value is {a+x}')"
      ]
    },
    {
      "cell_type": "markdown",
      "id": "88c5cfff",
      "metadata": {
        "id": "88c5cfff"
      },
      "source": [
        "Logical operations such as `>,<,==` create boolean types (`True` or `False`):"
      ]
    },
    {
      "cell_type": "code",
      "execution_count": null,
      "id": "66853801",
      "metadata": {
        "id": "66853801"
      },
      "outputs": [],
      "source": [
        "b1 = 5 > 4\n",
        "b2 = a == 2\n",
        "b3 = a > 5\n",
        "print(b1, b2, b3)"
      ]
    },
    {
      "cell_type": "markdown",
      "id": "2430556d",
      "metadata": {
        "id": "2430556d"
      },
      "source": [
        "We can use logical values and if statements to control the flow of our code. For example:"
      ]
    },
    {
      "cell_type": "code",
      "execution_count": null,
      "id": "4dde24f5",
      "metadata": {
        "id": "4dde24f5"
      },
      "outputs": [],
      "source": [
        "r = 1\n",
        "if r > 0:\n",
        "    print('r is positive')\n",
        "elif r < 0:\n",
        "    print('r is negative')\n",
        "else:\n",
        "    print('r is zero')"
      ]
    },
    {
      "cell_type": "markdown",
      "id": "4fb8c58b",
      "metadata": {
        "id": "4fb8c58b"
      },
      "source": [
        "Try changing the value of `r` and re-running the cell above. Does it still work if `r` is a floating point type? What if `r` is a string?"
      ]
    },
    {
      "cell_type": "markdown",
      "id": "49177970",
      "metadata": {
        "id": "49177970"
      },
      "source": [
        "Exercise: create a new code cell below this one (don't just edit the next cell, which is anyway a markdown cell and cannot run code), and try out some of the python operators listed on [this page](https://www.tutorialspoint.com/python/python_basic_operators.htm)"
      ]
    },
    {
      "cell_type": "markdown",
      "id": "e5ee9ac3",
      "metadata": {
        "id": "e5ee9ac3"
      },
      "source": [
        "## Functions\n",
        "When we're going to use the same code over and over, we don't always want to type it all out. Rather, we define a *function*, a rule for assigning inputs to outputs, and give it a name.\n",
        "\n",
        "Here's an example of a function named `sqp1` that computes $x^2 +1$ for any input x:"
      ]
    },
    {
      "cell_type": "code",
      "execution_count": null,
      "id": "6ecf77fc",
      "metadata": {
        "id": "6ecf77fc"
      },
      "outputs": [],
      "source": [
        "def sqp1(x):\n",
        "    y = x ** 2 + 1\n",
        "    return y"
      ]
    },
    {
      "cell_type": "markdown",
      "id": "4b997799",
      "metadata": {
        "id": "4b997799"
      },
      "source": [
        "Now we can use `sqp1` wherever we like:"
      ]
    },
    {
      "cell_type": "code",
      "execution_count": null,
      "id": "390ce49e",
      "metadata": {
        "id": "390ce49e"
      },
      "outputs": [],
      "source": [
        "print(sqp1(1), sqp1(10), sqp1(-5))"
      ]
    },
    {
      "cell_type": "markdown",
      "id": "fa5882a7",
      "metadata": {
        "id": "fa5882a7"
      },
      "source": [
        "Note that the variable names `x,y` used inside of the definition of `sqp1` are internal to it, and generally have no effect on variables outside the function, even if those outer variables are also called `x` or `y`:"
      ]
    },
    {
      "cell_type": "code",
      "execution_count": null,
      "id": "d90c4f0b",
      "metadata": {
        "id": "d90c4f0b"
      },
      "outputs": [],
      "source": [
        "x = 4\n",
        "y = -2\n",
        "print(f'sqp1(5) = {sqp1(5)}')\n",
        "print('x = {x}')\n",
        "print('y = {y}')"
      ]
    },
    {
      "cell_type": "markdown",
      "id": "f53d29b5",
      "metadata": {
        "id": "f53d29b5"
      },
      "source": [
        "Exercise: define a function named `LeakyReLU` that implement that common nonlinear activation function for neural networks, defined by\n",
        "\n",
        "$$f(x) = \\begin{cases}\n",
        "x\\quad\\quad\\text{if } x\\geq 0\n",
        "\\\\\n",
        "0.1 x\\quad\\quad\\text{if } x< 0\n",
        "\\end{cases}$$\n",
        "\n",
        "Test this function with several inputs."
      ]
    },
    {
      "cell_type": "code",
      "execution_count": null,
      "id": "53c31aa3",
      "metadata": {
        "id": "53c31aa3"
      },
      "outputs": [],
      "source": [
        ""
      ]
    },
    {
      "cell_type": "markdown",
      "id": "7e5d52ba",
      "metadata": {
        "id": "7e5d52ba"
      },
      "source": [
        "## Lists\n",
        "Lists are another import type of object in Python. Instead of assigning a different name to each quantity we want to keep track of, we can keep them in a list, and access them as needed"
      ]
    },
    {
      "cell_type": "code",
      "execution_count": null,
      "id": "56e0c822",
      "metadata": {
        "id": "56e0c822"
      },
      "outputs": [],
      "source": [
        "L = [1, 3, 4, 5]\n",
        "print(L[1])  # first element is index by zero\n",
        "i = 2\n",
        "print(L[i])  # list indices can be variables"
      ]
    },
    {
      "cell_type": "markdown",
      "id": "afd91989",
      "metadata": {
        "id": "afd91989"
      },
      "source": [
        "We can combine lists, extend them, and modify or remove their elements"
      ]
    },
    {
      "cell_type": "code",
      "execution_count": null,
      "id": "698c7a2d",
      "metadata": {
        "id": "698c7a2d"
      },
      "outputs": [],
      "source": [
        "print(L)\n",
        "L.append(-1)\n",
        "print(L)"
      ]
    },
    {
      "cell_type": "code",
      "execution_count": null,
      "id": "06ff9486",
      "metadata": {
        "id": "06ff9486"
      },
      "outputs": [],
      "source": [
        "Q = [1, 'a', 2.4]\n",
        "print(Q)\n",
        "Z = Q + L  # + operator does something different for lists!\n",
        "print(Z)\n",
        "Z.pop(1)\n",
        "print(Z)"
      ]
    },
    {
      "cell_type": "markdown",
      "id": "0b1d764f",
      "metadata": {
        "id": "0b1d764f"
      },
      "source": [
        "Unlike numeric types, when we assign an existing list to a new value, we're not making a copy of the data. Instead we're assigning a second name to an existing object in the computer's memory."
      ]
    },
    {
      "cell_type": "code",
      "execution_count": null,
      "id": "06bd0da3",
      "metadata": {
        "id": "06bd0da3"
      },
      "outputs": [],
      "source": [
        "x = 1.5\n",
        "y = x\n",
        "y = y + 1  # doesn't affect x, since x and y are different objects in memory\n",
        "print(f'x = {x}, y = {y}')\n",
        "\n",
        "g = [1.5, 1.6]\n",
        "h = g\n",
        "h[0] = 0.7  # also changes g[0], since g and h refer to the same object in memory\n",
        "print(f'g = {g}, h = {h}')"
      ]
    },
    {
      "cell_type": "markdown",
      "id": "8ecdc470",
      "metadata": {
        "id": "8ecdc470"
      },
      "source": [
        "## Loops\n",
        "We often want to execute the same code many times, sometimes on different data and sometimes to step a simulation forward in time. For this we can use various loops"
      ]
    },
    {
      "cell_type": "code",
      "execution_count": null,
      "id": "8d490985",
      "metadata": {
        "id": "8d490985"
      },
      "outputs": [],
      "source": [
        "y = []\n",
        "for i in range(5):\n",
        "    print(i ** 2)\n",
        "    \n",
        "j = 0\n",
        "while j < 5:\n",
        "    print(j ** 3)\n",
        "    j = j + 1"
      ]
    },
    {
      "cell_type": "markdown",
      "id": "4ab3ba6e",
      "metadata": {
        "id": "4ab3ba6e"
      },
      "source": [
        "Exercise: look up the syntax for `enumerate`. You can look at the [official docs](https://docs.python.org/3/library/functions.html#enumerate), or try google or stackoverflow.\n",
        "\n",
        "Now use this to print out the `v[i] * i` for each element of the list `v` below"
      ]
    },
    {
      "cell_type": "code",
      "execution_count": null,
      "id": "31749515",
      "metadata": {
        "id": "31749515"
      },
      "outputs": [],
      "source": [
        "v = [1, 3, 9, 7]"
      ]
    },
    {
      "cell_type": "markdown",
      "id": "70a0f3af",
      "metadata": {
        "id": "70a0f3af"
      },
      "source": [
        "List comprehensions use a different syntax to create a temporary variable for each element of a list:"
      ]
    },
    {
      "cell_type": "code",
      "execution_count": null,
      "id": "7e548d12",
      "metadata": {
        "id": "7e548d12"
      },
      "outputs": [],
      "source": [
        "vsq = [val ** 2 for val in v]\n",
        "print(v)\n",
        "print(vsq)"
      ]
    },
    {
      "cell_type": "markdown",
      "id": "44d2137f",
      "metadata": {
        "id": "44d2137f"
      },
      "source": [
        "Exercise:\n",
        "* store all numbers from -1 to 1 in increments of 0.1 in a list\n",
        "* apply the LeakyReLU function above to them, and store the results in another list\n",
        "* think of various alternative ways to program this"
      ]
    },
    {
      "cell_type": "markdown",
      "id": "525a0654",
      "metadata": {
        "id": "525a0654"
      },
      "source": [
        "## Importing packages and modules\n",
        "\n",
        "In addition to writing our own code, we want to use code from various official and unofficila libraries and repositories across the web. To do this, we import python module. These can be from built-in packages like `numpy`, or they can be files or folders on disk. One python file on disk is generally referred to as a module.\n",
        "\n",
        "Here we'll use the `numpy` package to find the maximum value of numbers in a list"
      ]
    },
    {
      "cell_type": "code",
      "execution_count": null,
      "id": "0a4dc50d",
      "metadata": {
        "id": "0a4dc50d"
      },
      "outputs": [],
      "source": [
        "L = [1, -3, 4, 2]\n",
        "\n",
        "import numpy as np\n",
        "np.max(L)"
      ]
    },
    {
      "cell_type": "markdown",
      "id": "9e19379e",
      "metadata": {
        "id": "9e19379e"
      },
      "source": [
        "Instead of importing the whole package, we can also just import the functions we need:"
      ]
    },
    {
      "cell_type": "code",
      "execution_count": null,
      "id": "4fd6b2fe",
      "metadata": {
        "id": "4fd6b2fe"
      },
      "outputs": [],
      "source": [
        "from numpy import max as npmax\n",
        "npmax(L)"
      ]
    },
    {
      "cell_type": "markdown",
      "id": "2aeddd06",
      "metadata": {
        "id": "2aeddd06"
      },
      "source": [
        "## Numpy Arrays\n",
        "In numpy, arrays store data similarly to lists but do other things too. They can be used for linear algebra, and they contain size information for one or more dimensions"
      ]
    },
    {
      "cell_type": "code",
      "execution_count": null,
      "id": "9806a0fa",
      "metadata": {
        "id": "9806a0fa"
      },
      "outputs": [],
      "source": [
        "M = np.array(L)\n",
        "print(M.max())\n",
        "print(M)\n",
        "print(2 * M + 1)\n",
        "print(M.shape)"
      ]
    },
    {
      "cell_type": "markdown",
      "id": "d6f0f579",
      "metadata": {
        "id": "d6f0f579"
      },
      "source": [
        "Exercise: write a function that uses a for loop to calculate the dot product of two numpy arrays. Compare the result with `np.dot(a, b)`"
      ]
    },
    {
      "cell_type": "code",
      "execution_count": null,
      "id": "040369f2",
      "metadata": {
        "id": "040369f2"
      },
      "outputs": [],
      "source": [
        ""
      ]
    },
    {
      "cell_type": "markdown",
      "id": "64d37146",
      "metadata": {
        "id": "64d37146"
      },
      "source": [
        "Exercise:\n",
        "* create a 2D array of random values using numpy.random.rand(). Google the documentation on how to adjust the number of rows and columns\n",
        "* implement matrix-vector and matrix-matrix multiplication using for loops\n",
        "* compare the results to np.dot()"
      ]
    },
    {
      "cell_type": "code",
      "execution_count": null,
      "id": "5b071d35",
      "metadata": {
        "id": "5b071d35"
      },
      "outputs": [],
      "source": [
        ""
      ]
    },
    {
      "cell_type": "markdown",
      "id": "74285f12",
      "metadata": {
        "id": "74285f12"
      },
      "source": [
        "## Graphics\n",
        "The next code block uses the `matplotlib` library to plot some random values in a graph`."
      ]
    },
    {
      "cell_type": "code",
      "execution_count": null,
      "id": "27eab8b1",
      "metadata": {
        "id": "27eab8b1"
      },
      "outputs": [],
      "source": [
        "x = np.random.randn(10)\n",
        "from matplotlib import pyplot as plt\n",
        "\n",
        "# this special \"magic\" command instructs the jupyter how graphics should be displayed\n",
        "%matplotlib inline\n",
        "\n",
        "plt.plot(x)"
      ]
    },
    {
      "cell_type": "markdown",
      "id": "017cf9b7",
      "metadata": {
        "id": "017cf9b7"
      },
      "source": [
        "Exercise:\n",
        "* Add some additional commands such as `plt.xlabel(...)` and `plt.ylabel` to improve the graph.\n",
        "* Look at the documentation of `matplotlib.pyplot.plot` and change the color, thickness, markers, and line-style of the pot"
      ]
    },
    {
      "cell_type": "code",
      "execution_count": null,
      "id": "9f5f7014",
      "metadata": {
        "id": "9f5f7014"
      },
      "outputs": [],
      "source": [
        ""
      ]
    },
    {
      "cell_type": "markdown",
      "id": "1915f389",
      "metadata": {
        "id": "1915f389"
      },
      "source": [
        "Exercise: read the documentation on `matplotlib.pyplot.imshow()` and use it to plot a randomly generated 2D numpy array as an image"
      ]
    },
    {
      "cell_type": "code",
      "execution_count": null,
      "id": "9d513e89",
      "metadata": {
        "id": "9d513e89"
      },
      "outputs": [],
      "source": [
        ""
      ]
    },
    {
      "cell_type": "markdown",
      "id": "1bf2013f",
      "metadata": {
        "id": "1bf2013f"
      },
      "source": [
        "## File operations\n",
        "Exercise: read the [documentation](https://numpy.org/doc/stable/reference/generated/numpy.save.html), then practice saving a numpy array to disk and loading it again. Keep in mind that if you're working on google colab, the filesystem will get wiped if you reload the page or restart the python kernel."
      ]
    },
    {
      "cell_type": "code",
      "execution_count": null,
      "id": "ce8ed495",
      "metadata": {
        "id": "ce8ed495"
      },
      "outputs": [],
      "source": [
        ""
      ]
    },
    {
      "cell_type": "markdown",
      "id": "8119a33b",
      "metadata": {
        "id": "8119a33b"
      },
      "source": [
        "## Importing data from google drive\n",
        "So how do we import data from if we don't have a filesystem that persists when we restart our computer or lose internet? We can use python or linux commands to download it, but that's a huge pain if we have to keep redownloading the data any time we get back to work!\n",
        "\n",
        "Instead, we simply store the data on google drive, just as we store the notebook itself. So we just have to figure out how to load data from google drive into our running notebook. Here's an example of how to do that:"
      ]
    },
    {
      "cell_type": "code",
      "execution_count": null,
      "id": "5733923f",
      "metadata": {
        "id": "5733923f"
      },
      "outputs": [],
      "source": [
        "# ! executes shell linux commands instead of python commands\n",
        "!pip install gdown  # library for downloading files from google drive.\n",
        "!gdown https://drive.google.com/uc?id=1TUFl4l4iEyIKTY1UnRD3G7fKElNMXjwo"
      ]
    },
    {
      "cell_type": "markdown",
      "id": "cbd4dd82",
      "metadata": {
        "id": "cbd4dd82"
      },
      "source": [
        "Now let's verify that we've downloaded the file, which should contain sea surface temperatures:"
      ]
    },
    {
      "cell_type": "code",
      "execution_count": null,
      "id": "ff650eaf",
      "metadata": {
        "id": "ff650eaf"
      },
      "outputs": [],
      "source": [
        "import os\n",
        "os.listdir(os.getcwd())"
      ]
    },
    {
      "cell_type": "markdown",
      "id": "dedc35e6",
      "metadata": {
        "id": "dedc35e6"
      },
      "source": [
        "The sea surface temperatures are in a netcdf file. Let's load it with `xarray`"
      ]
    },
    {
      "cell_type": "code",
      "execution_count": null,
      "id": "c04f72a1",
      "metadata": {
        "id": "c04f72a1"
      },
      "outputs": [],
      "source": [
        "import xarray as xr\n",
        "sst = xr.load_dataset('sst.nc', decode_times=False)"
      ]
    },
    {
      "cell_type": "markdown",
      "id": "31c3dbef",
      "metadata": {
        "id": "31c3dbef"
      },
      "source": [
        "Exercises:\n",
        "* Read up on the documentation of xarray datasets\n",
        "* Figure out how data is stored in sst, which dimensions and axes it has, etc.\n",
        "* Plot some images of sea surface temperature, and label them with the correct date\n",
        "* Note that pixels on land have no data. Find the sea pixel on the spatial grid as close as possible to our current location. Plot the sea surface temperature there as a function of time. Label the axes and units."
      ]
    },
    {
      "cell_type": "markdown",
      "id": "973e85e4",
      "metadata": {
        "id": "973e85e4"
      },
      "source": [
        "Finally: (re)familiarize yourself with how classes work in Python (see the moodle for intro guides, or just google \"classes in python\"). Write a class with an `__init__` method that takes multiple inputs, that stores data, and that has one or more methods. Define and test it in one more code cells below."
      ]
    },
    {
      "cell_type": "code",
      "execution_count": null,
      "id": "5822b4f6",
      "metadata": {
        "id": "5822b4f6"
      },
      "outputs": [],
      "source": [
        ""
      ]
    }
  ],
  "metadata": {
    "kernelspec": {
      "display_name": "Python 3 (ipykernel)",
      "language": "python",
      "name": "python3"
    },
    "language_info": {
      "codemirror_mode": {
        "name": "ipython",
        "version": 3
      },
      "file_extension": ".py",
      "mimetype": "text/x-python",
      "name": "python",
      "nbconvert_exporter": "python",
      "pygments_lexer": "ipython3",
      "version": "3.8.11"
    },
    "colab": {
      "name": "01 - Intro.ipynb",
      "provenance": [],
      "collapsed_sections": []
    }
  },
  "nbformat": 4,
  "nbformat_minor": 5
}